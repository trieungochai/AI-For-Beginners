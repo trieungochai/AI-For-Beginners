{
 "cells": [
  {
   "cell_type": "markdown",
   "metadata": {
    "collapsed": true,
    "jp-MarkdownHeadingCollapsed": true,
    "jupyter": {
     "outputs_hidden": true
    }
   },
   "source": [
    "# Implementing an Animal Expert System\n",
    "\n",
    "In this sample, we will implement a simple knowledge-based system to determine an animal based on some physical characteristics.\n",
    "\n",
    "The system can be represented by the following AND-OR tree (this is a part of the whole tree, we can easily add some more rules).\n",
    "\n",
    "![](images/AND-OR-Tree.png)"
   ]
  },
  {
   "cell_type": "markdown",
   "metadata": {
   },
   "source": [
    "## Our own expert systems shell with backward inference\n",
    "\n",
    "There would be essentially 3 types of classes:\n",
    "- `Ask` represents a question that needs to be asked to the user. It contains the set of possible answers.\n",
    "- `If` represents a rule, and it is just a syntactic sugar to store the content of the rule.\n",
    "- `AND`/`OR` are classes to represent AND/OR branches of the tree. They just store the list of arguments inside. To simplify code, all functionality is defined in the parent class `Content`."
   ]
  }
 ],
 "metadata": {
  "kernelspec": {
   "display_name": "Python 3 (ipykernel)",
   "language": "python",
   "name": "python3"
  },
  "language_info": {
   "name": "python",
   "version": "3.8.2"
  }
 },
 "nbformat": 4,
 "nbformat_minor": 4
}
